{
 "cells": [
  {
   "cell_type": "markdown",
   "metadata": {},
   "source": [
    "Problem Statement\n",
    "The data scientists at BigMart have collected 2013 sales data for 1559 products across 10 stores in different cities. Also, certain attributes of each product and store have been defined. The aim is to build a predictive model and find out the sales of each product at a particular store.\n",
    "Using this model, BigMart will try to understand the properties of products and stores which play a key role in increasing sales."
   ]
  },
  {
   "cell_type": "code",
   "execution_count": 313,
   "metadata": {
    "collapsed": true
   },
   "outputs": [],
   "source": [
    "import pandas as pd\n",
    "import numpy as np\n",
    "import matplotlib.pyplot as plt\n",
    "import seaborn as sns\n",
    "df= pd.read_csv('/Data/Train.csv')"
   ]
  },
  {
   "cell_type": "code",
   "execution_count": 314,
   "metadata": {},
   "outputs": [
    {
     "data": {
      "text/plain": [
       "array(['Low Fat', 'Regular', 'low fat', 'LF', 'reg'], dtype=object)"
      ]
     },
     "execution_count": 314,
     "metadata": {},
     "output_type": "execute_result"
    }
   ],
   "source": [
    "df['Item_Fat_Content'].unique()\n",
    "#Low Fat=low fat= LF .Similarly,Regular=reg"
   ]
  },
  {
   "cell_type": "code",
   "execution_count": 315,
   "metadata": {},
   "outputs": [],
   "source": [
    "def fat_content(df):\n",
    "    df['Item_Fat_Content']=df['Item_Fat_Content'].replace(['low fat','LF'],'Low Fat')\n",
    "    df['Item_Fat_Content']=df['Item_Fat_Content'].replace(['reg'],'Regular')\n",
    "    df['Item_Fat_Content'].unique()\n",
    "    return df"
   ]
  },
  {
   "cell_type": "code",
   "execution_count": 316,
   "metadata": {},
   "outputs": [
    {
     "data": {
      "text/plain": [
       "Item_Identifier                 0\n",
       "Item_Weight                  1463\n",
       "Item_Fat_Content                0\n",
       "Item_Visibility                 0\n",
       "Item_Type                       0\n",
       "Item_MRP                        0\n",
       "Outlet_Identifier               0\n",
       "Outlet_Establishment_Year       0\n",
       "Outlet_Size                  2410\n",
       "Outlet_Location_Type            0\n",
       "Outlet_Type                     0\n",
       "Item_Outlet_Sales               0\n",
       "dtype: int64"
      ]
     },
     "execution_count": 316,
     "metadata": {},
     "output_type": "execute_result"
    }
   ],
   "source": [
    "#Missing values\n",
    "df.isnull().sum()"
   ]
  },
  {
   "cell_type": "code",
   "execution_count": 317,
   "metadata": {
    "collapsed": true
   },
   "outputs": [],
   "source": [
    "#Treating Item_Weight missing value with the mean of the greoup Item_Identifier value\n",
    "df[\"Item_Weight\"].fillna(df.groupby(\"Item_Identifier\")[\"Item_Weight\"].transform(\"mean\"), inplace=True)"
   ]
  },
  {
   "cell_type": "code",
   "execution_count": 318,
   "metadata": {},
   "outputs": [],
   "source": [
    "# Due to linear relation between Item_Outlet_Sales and Item_MRP, below will give the \n",
    "df[\"Item_Outlet_Sales\"]=round(df.Item_Outlet_Sales/df.Item_MRP)"
   ]
  },
  {
   "cell_type": "code",
   "execution_count": 319,
   "metadata": {},
   "outputs": [
    {
     "data": {
      "text/html": [
       "<div>\n",
       "<style>\n",
       "    .dataframe thead tr:only-child th {\n",
       "        text-align: right;\n",
       "    }\n",
       "\n",
       "    .dataframe thead th {\n",
       "        text-align: left;\n",
       "    }\n",
       "\n",
       "    .dataframe tbody tr th {\n",
       "        vertical-align: top;\n",
       "    }\n",
       "</style>\n",
       "<table border=\"1\" class=\"dataframe\">\n",
       "  <thead>\n",
       "    <tr style=\"text-align: right;\">\n",
       "      <th></th>\n",
       "      <th>Item_Identifier</th>\n",
       "      <th>Item_Weight</th>\n",
       "      <th>Item_Fat_Content</th>\n",
       "      <th>Item_Visibility</th>\n",
       "      <th>Item_Type</th>\n",
       "      <th>Item_MRP</th>\n",
       "      <th>Outlet_Identifier</th>\n",
       "      <th>Outlet_Establishment_Year</th>\n",
       "      <th>Outlet_Size</th>\n",
       "      <th>Outlet_Location_Type</th>\n",
       "      <th>Outlet_Type</th>\n",
       "      <th>Item_Outlet_Sales</th>\n",
       "    </tr>\n",
       "  </thead>\n",
       "  <tbody>\n",
       "    <tr>\n",
       "      <th>544</th>\n",
       "      <td>DRG01</td>\n",
       "      <td>14.8</td>\n",
       "      <td>Low Fat</td>\n",
       "      <td>0.044870</td>\n",
       "      <td>Soft Drinks</td>\n",
       "      <td>76.467</td>\n",
       "      <td>OUT035</td>\n",
       "      <td>2004</td>\n",
       "      <td>Small</td>\n",
       "      <td>Tier 2</td>\n",
       "      <td>Supermarket Type1</td>\n",
       "      <td>20.0</td>\n",
       "    </tr>\n",
       "    <tr>\n",
       "      <th>1218</th>\n",
       "      <td>DRG01</td>\n",
       "      <td>14.8</td>\n",
       "      <td>Low Fat</td>\n",
       "      <td>0.044841</td>\n",
       "      <td>Soft Drinks</td>\n",
       "      <td>78.367</td>\n",
       "      <td>OUT013</td>\n",
       "      <td>1987</td>\n",
       "      <td>High</td>\n",
       "      <td>Tier 3</td>\n",
       "      <td>Supermarket Type1</td>\n",
       "      <td>12.0</td>\n",
       "    </tr>\n",
       "    <tr>\n",
       "      <th>3005</th>\n",
       "      <td>DRG01</td>\n",
       "      <td>14.8</td>\n",
       "      <td>Low Fat</td>\n",
       "      <td>0.044661</td>\n",
       "      <td>Soft Drinks</td>\n",
       "      <td>74.767</td>\n",
       "      <td>OUT027</td>\n",
       "      <td>1985</td>\n",
       "      <td>Medium</td>\n",
       "      <td>Tier 3</td>\n",
       "      <td>Supermarket Type3</td>\n",
       "      <td>36.0</td>\n",
       "    </tr>\n",
       "    <tr>\n",
       "      <th>5974</th>\n",
       "      <td>DRG01</td>\n",
       "      <td>14.8</td>\n",
       "      <td>Low Fat</td>\n",
       "      <td>0.078576</td>\n",
       "      <td>Soft Drinks</td>\n",
       "      <td>78.467</td>\n",
       "      <td>OUT019</td>\n",
       "      <td>1985</td>\n",
       "      <td>Small</td>\n",
       "      <td>Tier 1</td>\n",
       "      <td>Grocery Store</td>\n",
       "      <td>3.0</td>\n",
       "    </tr>\n",
       "    <tr>\n",
       "      <th>8522</th>\n",
       "      <td>DRG01</td>\n",
       "      <td>14.8</td>\n",
       "      <td>Low Fat</td>\n",
       "      <td>0.044878</td>\n",
       "      <td>Soft Drinks</td>\n",
       "      <td>75.467</td>\n",
       "      <td>OUT046</td>\n",
       "      <td>1997</td>\n",
       "      <td>Small</td>\n",
       "      <td>Tier 1</td>\n",
       "      <td>Supermarket Type1</td>\n",
       "      <td>10.0</td>\n",
       "    </tr>\n",
       "  </tbody>\n",
       "</table>\n",
       "</div>"
      ],
      "text/plain": [
       "     Item_Identifier  Item_Weight Item_Fat_Content  Item_Visibility  \\\n",
       "544            DRG01         14.8          Low Fat         0.044870   \n",
       "1218           DRG01         14.8          Low Fat         0.044841   \n",
       "3005           DRG01         14.8          Low Fat         0.044661   \n",
       "5974           DRG01         14.8          Low Fat         0.078576   \n",
       "8522           DRG01         14.8          Low Fat         0.044878   \n",
       "\n",
       "        Item_Type  Item_MRP Outlet_Identifier  Outlet_Establishment_Year  \\\n",
       "544   Soft Drinks    76.467            OUT035                       2004   \n",
       "1218  Soft Drinks    78.367            OUT013                       1987   \n",
       "3005  Soft Drinks    74.767            OUT027                       1985   \n",
       "5974  Soft Drinks    78.467            OUT019                       1985   \n",
       "8522  Soft Drinks    75.467            OUT046                       1997   \n",
       "\n",
       "     Outlet_Size Outlet_Location_Type        Outlet_Type  Item_Outlet_Sales  \n",
       "544        Small               Tier 2  Supermarket Type1               20.0  \n",
       "1218        High               Tier 3  Supermarket Type1               12.0  \n",
       "3005      Medium               Tier 3  Supermarket Type3               36.0  \n",
       "5974       Small               Tier 1      Grocery Store                3.0  \n",
       "8522       Small               Tier 1  Supermarket Type1               10.0  "
      ]
     },
     "execution_count": 319,
     "metadata": {},
     "output_type": "execute_result"
    }
   ],
   "source": [
    "df[df.Item_Identifier==\"DRG01\"]"
   ]
  },
  {
   "cell_type": "code",
   "execution_count": 320,
   "metadata": {},
   "outputs": [
    {
     "name": "stdout",
     "output_type": "stream",
     "text": [
      "0    FD\n",
      "1    DR\n",
      "2    FD\n",
      "3    FD\n",
      "4    NC\n",
      "Name: Item_id_cat1, dtype: object \n",
      " 0    A\n",
      "1    C\n",
      "2    N\n",
      "3    X\n",
      "4    D\n",
      "Name: Item_id_cat2, dtype: object \n",
      " 0    15\n",
      "1    01\n",
      "2    15\n",
      "3    07\n",
      "4    19\n",
      "Name: Item_id_cat3, dtype: object\n"
     ]
    }
   ],
   "source": [
    "#Convert Item_Identifier into 3 different features\n",
    "\n",
    "def Item_identifier_transform(df):\n",
    "    a=df[0]+df[1]\n",
    "    b=df[2]\n",
    "    c=df[3]+df[4]\n",
    "    return a,b,c\n",
    "\n",
    "z=df.Item_Identifier.apply(Item_identifier_transform)\n",
    "\n",
    "from itertools import chain\n",
    "k=list(chain.from_iterable(z))\n",
    "\n",
    "k=np.array(k)\n",
    "k=k.reshape(-1,3)\n",
    "df[\"Item_id_cat1\"]=k[:,0]\n",
    "df[\"Item_id_cat2\"]=k[:,1]\n",
    "df[\"Item_id_cat3\"]=k[:,2]\n",
    "\n",
    "print(df.Item_id_cat1[:5],\"\\n\",df.Item_id_cat2[:5],\"\\n\",df.Item_id_cat3[:5])"
   ]
  },
  {
   "cell_type": "code",
   "execution_count": 321,
   "metadata": {
    "collapsed": true
   },
   "outputs": [],
   "source": [
    "#Predicting outlet type\n",
    "def pred_outlet_type(data):\n",
    "    X_train=data[data.Outlet_Size.notnull()]\n",
    "    X_test=data[data.Outlet_Size.isnull()]\n",
    "    Y_train=X_train.pop(\"Outlet_Size\")\n",
    "    X_test.drop(\"Outlet_Size\",inplace=True,axis=1)\n",
    "\n",
    "    columns=[\"Outlet_Identifier\",\"Outlet_Establishment_Year\",\"Outlet_Location_Type\",\"Outlet_Type\"]\n",
    "    X_train=X_train[columns]\n",
    "    X_test=X_test[columns]\n",
    "\n",
    "    from sklearn.preprocessing import LabelEncoder\n",
    "    le=LabelEncoder()\n",
    "    columns1=[\"Outlet_Identifier\",\"Outlet_Establishment_Year\",\"Outlet_Location_Type\",\"Outlet_Type\"]\n",
    "    for i in columns1: \n",
    "        le.fit(data[i])\n",
    "        X_train[i]=le.transform(X_train[i])\n",
    "        X_test[i]=le.transform(X_test[i])\n",
    "        \n",
    "    from sklearn.ensemble import RandomForestClassifier\n",
    "    from sklearn.grid_search import GridSearchCV\n",
    "    \n",
    "    final_model=RandomForestClassifier(random_state=0,n_estimators=50,max_depth=3,min_samples_leaf=2,min_samples_split=2,max_features=\"log2\")\n",
    "    final_model.fit(X_train,Y_train)\n",
    "    final_model.score(X_train,Y_train)\n",
    "    predictions=final_model.predict(X_test)\n",
    "\n",
    "    a=data[data.Outlet_Size.isnull()]\n",
    "    a.Outlet_Size=predictions\n",
    "    new_data=data[data.Outlet_Size.notnull()].append(a)\n",
    "    new_data.reset_index(drop=False,inplace=True)\n",
    "    return new_data"
   ]
  },
  {
   "cell_type": "code",
   "execution_count": 322,
   "metadata": {},
   "outputs": [
    {
     "name": "stderr",
     "output_type": "stream",
     "text": [
      "/Applications/anaconda3/lib/python3.6/site-packages/ipykernel_launcher.py:6: SettingWithCopyWarning: \n",
      "A value is trying to be set on a copy of a slice from a DataFrame\n",
      "\n",
      "See the caveats in the documentation: http://pandas.pydata.org/pandas-docs/stable/indexing.html#indexing-view-versus-copy\n",
      "  \n",
      "/Applications/anaconda3/lib/python3.6/site-packages/pandas/core/generic.py:3110: SettingWithCopyWarning: \n",
      "A value is trying to be set on a copy of a slice from a DataFrame.\n",
      "Try using .loc[row_indexer,col_indexer] = value instead\n",
      "\n",
      "See the caveats in the documentation: http://pandas.pydata.org/pandas-docs/stable/indexing.html#indexing-view-versus-copy\n",
      "  self[name] = value\n"
     ]
    }
   ],
   "source": [
    "df=pred_outlet_type(df)\n",
    " \n",
    "df.drop(labels=\"index\",inplace=True,axis=1)\n",
    "df.drop(labels=\"Item_Identifier\",inplace=True,axis=1)\n",
    "df.drop(labels=\"Item_Weight\",inplace=True,axis=1)"
   ]
  },
  {
   "cell_type": "code",
   "execution_count": 323,
   "metadata": {},
   "outputs": [
    {
     "data": {
      "text/html": [
       "<div>\n",
       "<style>\n",
       "    .dataframe thead tr:only-child th {\n",
       "        text-align: right;\n",
       "    }\n",
       "\n",
       "    .dataframe thead th {\n",
       "        text-align: left;\n",
       "    }\n",
       "\n",
       "    .dataframe tbody tr th {\n",
       "        vertical-align: top;\n",
       "    }\n",
       "</style>\n",
       "<table border=\"1\" class=\"dataframe\">\n",
       "  <thead>\n",
       "    <tr style=\"text-align: right;\">\n",
       "      <th>Outlet_Location_Type</th>\n",
       "      <th>Tier 1</th>\n",
       "      <th>Tier 2</th>\n",
       "      <th>Tier 3</th>\n",
       "    </tr>\n",
       "    <tr>\n",
       "      <th>Outlet_Size</th>\n",
       "      <th></th>\n",
       "      <th></th>\n",
       "      <th></th>\n",
       "    </tr>\n",
       "  </thead>\n",
       "  <tbody>\n",
       "    <tr>\n",
       "      <th>High</th>\n",
       "      <td>0</td>\n",
       "      <td>0</td>\n",
       "      <td>1487</td>\n",
       "    </tr>\n",
       "    <tr>\n",
       "      <th>Medium</th>\n",
       "      <td>930</td>\n",
       "      <td>0</td>\n",
       "      <td>1863</td>\n",
       "    </tr>\n",
       "    <tr>\n",
       "      <th>Small</th>\n",
       "      <td>1458</td>\n",
       "      <td>2785</td>\n",
       "      <td>0</td>\n",
       "    </tr>\n",
       "  </tbody>\n",
       "</table>\n",
       "</div>"
      ],
      "text/plain": [
       "Outlet_Location_Type  Tier 1  Tier 2  Tier 3\n",
       "Outlet_Size                                 \n",
       "High                       0       0    1487\n",
       "Medium                   930       0    1863\n",
       "Small                   1458    2785       0"
      ]
     },
     "execution_count": 323,
     "metadata": {},
     "output_type": "execute_result"
    }
   ],
   "source": [
    "pd.crosstab([df.Outlet_Size],df.Outlet_Location_Type)"
   ]
  },
  {
   "cell_type": "code",
   "execution_count": 324,
   "metadata": {},
   "outputs": [],
   "source": [
    "#Converting categorical data into numerical\n",
    "\n",
    "from sklearn.preprocessing import LabelEncoder\n",
    "le=LabelEncoder()\n",
    "columns1=[\"Outlet_Identifier\",\"Outlet_Location_Type\",\"Outlet_Type\",\"Item_Fat_Content\",\"Item_Type\",\"Outlet_Size\",\"Item_MRP\",\"Item_id_cat1\",\"Item_id_cat2\",\"Item_id_cat3\"]\n",
    "for i in columns1:\n",
    "    df[i]=le.fit_transform(df[i])    \n",
    "y=df.pop(\"Item_Outlet_Sales\")\n",
    "X=df\n"
   ]
  },
  {
   "cell_type": "code",
   "execution_count": 325,
   "metadata": {},
   "outputs": [
    {
     "data": {
      "text/html": [
       "<div>\n",
       "<style>\n",
       "    .dataframe thead tr:only-child th {\n",
       "        text-align: right;\n",
       "    }\n",
       "\n",
       "    .dataframe thead th {\n",
       "        text-align: left;\n",
       "    }\n",
       "\n",
       "    .dataframe tbody tr th {\n",
       "        vertical-align: top;\n",
       "    }\n",
       "</style>\n",
       "<table border=\"1\" class=\"dataframe\">\n",
       "  <thead>\n",
       "    <tr style=\"text-align: right;\">\n",
       "      <th></th>\n",
       "      <th>Item_Fat_Content</th>\n",
       "      <th>Item_Visibility</th>\n",
       "      <th>Item_Type</th>\n",
       "      <th>Item_MRP</th>\n",
       "      <th>Outlet_Identifier</th>\n",
       "      <th>Outlet_Establishment_Year</th>\n",
       "      <th>Outlet_Size</th>\n",
       "      <th>Outlet_Location_Type</th>\n",
       "      <th>Outlet_Type</th>\n",
       "      <th>Item_id_cat1</th>\n",
       "      <th>Item_id_cat2</th>\n",
       "      <th>Item_id_cat3</th>\n",
       "    </tr>\n",
       "  </thead>\n",
       "  <tbody>\n",
       "    <tr>\n",
       "      <th>0</th>\n",
       "      <td>1</td>\n",
       "      <td>0.016047</td>\n",
       "      <td>4</td>\n",
       "      <td>5592</td>\n",
       "      <td>9</td>\n",
       "      <td>1999</td>\n",
       "      <td>1</td>\n",
       "      <td>0</td>\n",
       "      <td>1</td>\n",
       "      <td>1</td>\n",
       "      <td>0</td>\n",
       "      <td>14</td>\n",
       "    </tr>\n",
       "    <tr>\n",
       "      <th>1</th>\n",
       "      <td>2</td>\n",
       "      <td>0.019278</td>\n",
       "      <td>14</td>\n",
       "      <td>473</td>\n",
       "      <td>3</td>\n",
       "      <td>2009</td>\n",
       "      <td>1</td>\n",
       "      <td>2</td>\n",
       "      <td>2</td>\n",
       "      <td>0</td>\n",
       "      <td>2</td>\n",
       "      <td>0</td>\n",
       "    </tr>\n",
       "    <tr>\n",
       "      <th>2</th>\n",
       "      <td>1</td>\n",
       "      <td>0.016760</td>\n",
       "      <td>10</td>\n",
       "      <td>2901</td>\n",
       "      <td>9</td>\n",
       "      <td>1999</td>\n",
       "      <td>1</td>\n",
       "      <td>0</td>\n",
       "      <td>1</td>\n",
       "      <td>1</td>\n",
       "      <td>13</td>\n",
       "      <td>14</td>\n",
       "    </tr>\n",
       "    <tr>\n",
       "      <th>3</th>\n",
       "      <td>1</td>\n",
       "      <td>0.000000</td>\n",
       "      <td>9</td>\n",
       "      <td>627</td>\n",
       "      <td>1</td>\n",
       "      <td>1987</td>\n",
       "      <td>0</td>\n",
       "      <td>2</td>\n",
       "      <td>1</td>\n",
       "      <td>2</td>\n",
       "      <td>3</td>\n",
       "      <td>18</td>\n",
       "    </tr>\n",
       "    <tr>\n",
       "      <th>4</th>\n",
       "      <td>2</td>\n",
       "      <td>0.000000</td>\n",
       "      <td>0</td>\n",
       "      <td>563</td>\n",
       "      <td>3</td>\n",
       "      <td>2009</td>\n",
       "      <td>1</td>\n",
       "      <td>2</td>\n",
       "      <td>2</td>\n",
       "      <td>1</td>\n",
       "      <td>15</td>\n",
       "      <td>35</td>\n",
       "    </tr>\n",
       "  </tbody>\n",
       "</table>\n",
       "</div>"
      ],
      "text/plain": [
       "   Item_Fat_Content  Item_Visibility  Item_Type  Item_MRP  Outlet_Identifier  \\\n",
       "0                 1         0.016047          4      5592                  9   \n",
       "1                 2         0.019278         14       473                  3   \n",
       "2                 1         0.016760         10      2901                  9   \n",
       "3                 1         0.000000          9       627                  1   \n",
       "4                 2         0.000000          0       563                  3   \n",
       "\n",
       "   Outlet_Establishment_Year  Outlet_Size  Outlet_Location_Type  Outlet_Type  \\\n",
       "0                       1999            1                     0            1   \n",
       "1                       2009            1                     2            2   \n",
       "2                       1999            1                     0            1   \n",
       "3                       1987            0                     2            1   \n",
       "4                       2009            1                     2            2   \n",
       "\n",
       "   Item_id_cat1  Item_id_cat2  Item_id_cat3  \n",
       "0             1             0            14  \n",
       "1             0             2             0  \n",
       "2             1            13            14  \n",
       "3             2             3            18  \n",
       "4             1            15            35  "
      ]
     },
     "execution_count": 325,
     "metadata": {},
     "output_type": "execute_result"
    }
   ],
   "source": [
    "df.head()"
   ]
  },
  {
   "cell_type": "code",
   "execution_count": 326,
   "metadata": {
    "collapsed": true
   },
   "outputs": [],
   "source": [
    "# Splitting train and test data\n",
    "from sklearn.cross_validation import train_test_split\n",
    "X_train,X_test,y_train,y_test = train_test_split(X,y,random_state=0)"
   ]
  },
  {
   "cell_type": "code",
   "execution_count": 327,
   "metadata": {},
   "outputs": [],
   "source": [
    "#Transform features by scaling each feature to a given range.\n",
    "from sklearn.preprocessing import MinMaxScaler\n",
    "scale=MinMaxScaler().fit(X_train)\n",
    "X_train=scale.transform(X_train)\n",
    "X_test=scale.transform(X_test)"
   ]
  },
  {
   "cell_type": "markdown",
   "metadata": {},
   "source": [
    "Linear regression Model"
   ]
  },
  {
   "cell_type": "code",
   "execution_count": 328,
   "metadata": {},
   "outputs": [
    {
     "data": {
      "text/plain": [
       "7.199822064777381"
      ]
     },
     "execution_count": 328,
     "metadata": {},
     "output_type": "execute_result"
    }
   ],
   "source": [
    "from sklearn.linear_model import LinearRegression\n",
    "from sklearn.preprocessing import PolynomialFeatures\n",
    "from sklearn.metrics import mean_squared_error\n",
    "\n",
    "poly=PolynomialFeatures(degree=2)\n",
    "X_train_poly=poly.fit_transform(X_train)\n",
    "X_test_poly=poly.transform(X_test)\n",
    "\n",
    "lin=LinearRegression()\n",
    "lin.fit(X_train_poly,y_train)\n",
    "predict=lin.predict(X_test_poly)\n",
    "np.sqrt(mean_squared_error(y_test,predict))"
   ]
  },
  {
   "cell_type": "markdown",
   "metadata": {},
   "source": [
    "Ridge Regression Model"
   ]
  },
  {
   "cell_type": "code",
   "execution_count": 329,
   "metadata": {},
   "outputs": [
    {
     "data": {
      "text/plain": [
       "7.2155592997404927"
      ]
     },
     "execution_count": 329,
     "metadata": {},
     "output_type": "execute_result"
    }
   ],
   "source": [
    "from sklearn.preprocessing import PolynomialFeatures\n",
    "from sklearn.linear_model import Ridge\n",
    "from sklearn.pipeline import make_pipeline\n",
    "\n",
    "poly=PolynomialFeatures(degree=3)\n",
    "X_train_poly=poly.fit_transform(X_train)\n",
    "X_test_poly=poly.transform(X_test)\n",
    "ridge=Ridge(random_state=0,alpha=1)\n",
    "ridge.fit(X_train_poly,y_train)\n",
    "predict=ridge.predict(X_test_poly)\n",
    "np.sqrt(mean_squared_error(y_test,predict))"
   ]
  },
  {
   "cell_type": "markdown",
   "metadata": {},
   "source": [
    "K-Neighbours"
   ]
  },
  {
   "cell_type": "code",
   "execution_count": 330,
   "metadata": {},
   "outputs": [
    {
     "data": {
      "text/plain": [
       "7.6314109847657123"
      ]
     },
     "execution_count": 330,
     "metadata": {},
     "output_type": "execute_result"
    }
   ],
   "source": [
    "from sklearn.neighbors import KNeighborsRegressor\n",
    "\n",
    "neigh=KNeighborsRegressor(n_neighbors=7)\n",
    "neigh.fit(X_train,y_train)\n",
    "predict=neigh.predict(X_test)\n",
    "np.sqrt(mean_squared_error(y_test,predict))"
   ]
  },
  {
   "cell_type": "code",
   "execution_count": 331,
   "metadata": {},
   "outputs": [
    {
     "data": {
      "text/plain": [
       "7.1533957273376005"
      ]
     },
     "execution_count": 331,
     "metadata": {},
     "output_type": "execute_result"
    }
   ],
   "source": [
    "from sklearn.ensemble import GradientBoostingRegressor\n",
    "from sklearn.grid_search import GridSearchCV\n",
    "\n",
    "gbm=GradientBoostingRegressor(max_features='sqrt', random_state=0)\n",
    "gbm.fit(X_train,y_train)\n",
    "predict=gbm.predict(X_test)\n",
    "np.sqrt(mean_squared_error(y_test,predict))\n"
   ]
  },
  {
   "cell_type": "code",
   "execution_count": 333,
   "metadata": {},
   "outputs": [
    {
     "name": "stdout",
     "output_type": "stream",
     "text": [
      "{'clf__n_estimators': 30}\n",
      "-48.06110913043902\n"
     ]
    }
   ],
   "source": [
    "from sklearn.pipeline import Pipeline\n",
    "pipeline1=Pipeline([(\"clf\",GradientBoostingRegressor(learning_rate=0.1, min_samples_split=10,min_samples_leaf=2,max_depth=8,max_features='sqrt',subsample=0.8,random_state=10))])\n",
    "\n",
    "parameters1={\"clf__n_estimators\":(20,30,40,50,60,70,80,100,120,150,200,300)}\n",
    "\n",
    "gsearch1=GridSearchCV(pipeline1,parameters1,scoring='neg_mean_squared_error',n_jobs=-1,cv=10)\n",
    "\n",
    "gsearch1.fit(X_train,y_train)\n",
    "\n",
    "print(gsearch1.best_params_)\n",
    "\n",
    "print(gsearch1.best_score_)"
   ]
  },
  {
   "cell_type": "code",
   "execution_count": 334,
   "metadata": {},
   "outputs": [
    {
     "data": {
      "text/plain": [
       "GridSearchCV(cv=10, error_score='raise',\n",
       "       estimator=Pipeline(memory=None,\n",
       "     steps=[('clf', GradientBoostingRegressor(alpha=0.9, criterion='friedman_mse', init=None,\n",
       "             learning_rate=0.1, loss='ls', max_depth=3,\n",
       "             max_features='sqrt', max_leaf_nodes=None,\n",
       "             min_impurity_decrease=0.0, min_impurity_split=None...ors=30, presort='auto',\n",
       "             random_state=10, subsample=0.8, verbose=0, warm_start=False))]),\n",
       "       fit_params={}, iid=True, n_jobs=-1,\n",
       "       param_grid={'clf__max_depth': (2, 3, 4, 5, 6, 7, 8, 9), 'clf__min_samples_split': (5, 10, 15, 20, 30, 40, 50), 'clf__min_samples_leaf': (2, 4, 6, 8, 10, 12)},\n",
       "       pre_dispatch='2*n_jobs', refit=True,\n",
       "       scoring='neg_mean_squared_error', verbose=0)"
      ]
     },
     "execution_count": 334,
     "metadata": {},
     "output_type": "execute_result"
    }
   ],
   "source": [
    "pipeline2=Pipeline([(\"clf\",GradientBoostingRegressor(learning_rate=0.1,n_estimators=30,\n",
    "                                                     max_features='sqrt',subsample=0.8,random_state=10))])\n",
    "\n",
    "parameters2={'clf__max_depth':(2,3,4,5,6,7,8,9),\"clf__min_samples_split\":(5,10,15,20,30,40,50),\"clf__min_samples_leaf\":(2,4,6,8,10,12)}\n",
    "\n",
    "gsearch2=GridSearchCV(pipeline2,parameters2,scoring='neg_mean_squared_error',n_jobs=-1,cv=10)\n",
    "\n",
    "gsearch2.fit(X_train,y_train)\n"
   ]
  },
  {
   "cell_type": "code",
   "execution_count": 335,
   "metadata": {},
   "outputs": [
    {
     "data": {
      "text/plain": [
       "{'clf__max_depth': 5, 'clf__min_samples_leaf': 8, 'clf__min_samples_split': 50}"
      ]
     },
     "execution_count": 335,
     "metadata": {},
     "output_type": "execute_result"
    }
   ],
   "source": [
    "gsearch2.best_params_"
   ]
  },
  {
   "cell_type": "code",
   "execution_count": 336,
   "metadata": {},
   "outputs": [
    {
     "data": {
      "text/plain": [
       "-47.233209191700986"
      ]
     },
     "execution_count": 336,
     "metadata": {},
     "output_type": "execute_result"
    }
   ],
   "source": [
    "gsearch2.best_score_"
   ]
  },
  {
   "cell_type": "code",
   "execution_count": 337,
   "metadata": {},
   "outputs": [
    {
     "name": "stdout",
     "output_type": "stream",
     "text": [
      "{'clf__max_features': 'sqrt'}\n",
      "-47.51559928997419\n"
     ]
    }
   ],
   "source": [
    "\n",
    "pipeline3=Pipeline([(\"clf\",GradientBoostingRegressor(learning_rate=0.1,n_estimators=30,max_depth=6,min_samples_leaf=8,min_samples_split=5,subsample=.8,random_state=10))])\n",
    "\n",
    "parameters3={\"clf__max_features\":(\"sqrt\",\"log2\",\"auto\")}\n",
    "\n",
    "gsearch3=GridSearchCV(pipeline3,parameters3,scoring='neg_mean_squared_error',n_jobs=-1,cv=10)\n",
    "\n",
    "gsearch3.fit(X_train,y_train)\n",
    "\n",
    "print(gsearch3.best_params_)\n",
    "\n",
    "print(gsearch3.best_score_)"
   ]
  },
  {
   "cell_type": "code",
   "execution_count": 338,
   "metadata": {},
   "outputs": [
    {
     "data": {
      "text/plain": [
       "7.1664081350085196"
      ]
     },
     "execution_count": 338,
     "metadata": {},
     "output_type": "execute_result"
    }
   ],
   "source": [
    "\n",
    "gbm1=GradientBoostingRegressor(n_estimators=30,learning_rate=0.1,max_depth=6,max_features='sqrt',min_samples_leaf=10,min_samples_split=5,random_state=10,subsample=.8)\n",
    "gbm1.fit(X_train,y_train)\n",
    "predict=gbm1.predict(X_test)\n",
    "np.sqrt(mean_squared_error(y_test,predict))"
   ]
  },
  {
   "cell_type": "code",
   "execution_count": 339,
   "metadata": {},
   "outputs": [
    {
     "data": {
      "text/plain": [
       "7.1698439760172015"
      ]
     },
     "execution_count": 339,
     "metadata": {},
     "output_type": "execute_result"
    }
   ],
   "source": [
    "gbm2=GradientBoostingRegressor(n_estimators=60,learning_rate=0.05,max_depth=6,max_features='sqrt',min_samples_leaf=10,min_samples_split=5,random_state=10,subsample=.8)\n",
    "gbm2.fit(X_train,y_train)\n",
    "predict=gbm2.predict(X_test)\n",
    "np.sqrt(mean_squared_error(y_test,predict))"
   ]
  },
  {
   "cell_type": "code",
   "execution_count": 340,
   "metadata": {},
   "outputs": [
    {
     "data": {
      "text/plain": [
       "7.3951359977109545"
      ]
     },
     "execution_count": 340,
     "metadata": {},
     "output_type": "execute_result"
    }
   ],
   "source": [
    "gbm3=GradientBoostingRegressor(n_estimators=120,learning_rate=0.01,max_depth=6,max_features='sqrt',min_samples_leaf=10,min_samples_split=5,random_state=10,subsample=.8)\n",
    "gbm3.fit(X_train,y_train)\n",
    "predict=gbm3.predict(X_test)\n",
    "np.sqrt(mean_squared_error(y_test,predict))"
   ]
  },
  {
   "cell_type": "code",
   "execution_count": 341,
   "metadata": {},
   "outputs": [
    {
     "data": {
      "text/plain": [
       "7.1751524212702824"
      ]
     },
     "execution_count": 341,
     "metadata": {},
     "output_type": "execute_result"
    }
   ],
   "source": [
    "gbm4=GradientBoostingRegressor(n_estimators=240,learning_rate=0.01,max_depth=6,max_features='sqrt',min_samples_leaf=10,min_samples_split=5,random_state=10,subsample=.8)\n",
    "gbm4.fit(X_train,y_train)\n",
    "predict=gbm4.predict(X_test)\n",
    "np.sqrt(mean_squared_error(y_test,predict))"
   ]
  },
  {
   "cell_type": "code",
   "execution_count": 342,
   "metadata": {},
   "outputs": [
    {
     "data": {
      "text/plain": [
       "7.1764561469758785"
      ]
     },
     "execution_count": 342,
     "metadata": {},
     "output_type": "execute_result"
    }
   ],
   "source": [
    "\n",
    "gbm5=GradientBoostingRegressor(n_estimators=480,learning_rate=0.005,max_depth=6,max_features='sqrt',min_samples_leaf=10,min_samples_split=5,random_state=10,subsample=.8)\n",
    "gbm5.fit(X_train,y_train)\n",
    "predict=gbm5.predict(X_test)\n",
    "np.sqrt(mean_squared_error(y_test,predict))"
   ]
  },
  {
   "cell_type": "code",
   "execution_count": 470,
   "metadata": {
    "collapsed": true
   },
   "outputs": [],
   "source": [
    "\n",
    "test=pd.read_csv(\"/Data/Test.csv\")"
   ]
  },
  {
   "cell_type": "code",
   "execution_count": 471,
   "metadata": {},
   "outputs": [
    {
     "data": {
      "text/html": [
       "<div>\n",
       "<style>\n",
       "    .dataframe thead tr:only-child th {\n",
       "        text-align: right;\n",
       "    }\n",
       "\n",
       "    .dataframe thead th {\n",
       "        text-align: left;\n",
       "    }\n",
       "\n",
       "    .dataframe tbody tr th {\n",
       "        vertical-align: top;\n",
       "    }\n",
       "</style>\n",
       "<table border=\"1\" class=\"dataframe\">\n",
       "  <thead>\n",
       "    <tr style=\"text-align: right;\">\n",
       "      <th></th>\n",
       "      <th>Item_Identifier</th>\n",
       "      <th>Outlet_Identifier</th>\n",
       "    </tr>\n",
       "  </thead>\n",
       "  <tbody>\n",
       "    <tr>\n",
       "      <th>count</th>\n",
       "      <td>5681</td>\n",
       "      <td>5681</td>\n",
       "    </tr>\n",
       "    <tr>\n",
       "      <th>unique</th>\n",
       "      <td>1543</td>\n",
       "      <td>10</td>\n",
       "    </tr>\n",
       "    <tr>\n",
       "      <th>top</th>\n",
       "      <td>FDQ60</td>\n",
       "      <td>OUT027</td>\n",
       "    </tr>\n",
       "    <tr>\n",
       "      <th>freq</th>\n",
       "      <td>8</td>\n",
       "      <td>624</td>\n",
       "    </tr>\n",
       "  </tbody>\n",
       "</table>\n",
       "</div>"
      ],
      "text/plain": [
       "       Item_Identifier Outlet_Identifier\n",
       "count             5681              5681\n",
       "unique            1543                10\n",
       "top              FDQ60            OUT027\n",
       "freq                 8               624"
      ]
     },
     "execution_count": 471,
     "metadata": {},
     "output_type": "execute_result"
    }
   ],
   "source": [
    "sub=test[['Item_Identifier','Outlet_Identifier']]\n",
    "#sub.drop(sub.index[0], inplace=True)\n",
    "sub.describe()"
   ]
  },
  {
   "cell_type": "code",
   "execution_count": 472,
   "metadata": {
    "collapsed": true
   },
   "outputs": [],
   "source": [
    "test_MRP=test.Item_MRP"
   ]
  },
  {
   "cell_type": "code",
   "execution_count": 473,
   "metadata": {},
   "outputs": [
    {
     "data": {
      "text/plain": [
       "(5681, 11)"
      ]
     },
     "execution_count": 473,
     "metadata": {},
     "output_type": "execute_result"
    }
   ],
   "source": [
    "test.shape"
   ]
  },
  {
   "cell_type": "code",
   "execution_count": 474,
   "metadata": {},
   "outputs": [
    {
     "data": {
      "text/html": [
       "<div>\n",
       "<style>\n",
       "    .dataframe thead tr:only-child th {\n",
       "        text-align: right;\n",
       "    }\n",
       "\n",
       "    .dataframe thead th {\n",
       "        text-align: left;\n",
       "    }\n",
       "\n",
       "    .dataframe tbody tr th {\n",
       "        vertical-align: top;\n",
       "    }\n",
       "</style>\n",
       "<table border=\"1\" class=\"dataframe\">\n",
       "  <thead>\n",
       "    <tr style=\"text-align: right;\">\n",
       "      <th></th>\n",
       "      <th>Item_Identifier</th>\n",
       "      <th>Item_Weight</th>\n",
       "      <th>Item_Fat_Content</th>\n",
       "      <th>Item_Visibility</th>\n",
       "      <th>Item_Type</th>\n",
       "      <th>Item_MRP</th>\n",
       "      <th>Outlet_Identifier</th>\n",
       "      <th>Outlet_Establishment_Year</th>\n",
       "      <th>Outlet_Size</th>\n",
       "      <th>Outlet_Location_Type</th>\n",
       "      <th>Outlet_Type</th>\n",
       "    </tr>\n",
       "  </thead>\n",
       "  <tbody>\n",
       "    <tr>\n",
       "      <th>0</th>\n",
       "      <td>FDW58</td>\n",
       "      <td>20.750</td>\n",
       "      <td>Low Fat</td>\n",
       "      <td>0.007565</td>\n",
       "      <td>Snack Foods</td>\n",
       "      <td>107.8622</td>\n",
       "      <td>OUT049</td>\n",
       "      <td>1999</td>\n",
       "      <td>Medium</td>\n",
       "      <td>Tier 1</td>\n",
       "      <td>Supermarket Type1</td>\n",
       "    </tr>\n",
       "    <tr>\n",
       "      <th>1</th>\n",
       "      <td>FDW14</td>\n",
       "      <td>8.300</td>\n",
       "      <td>reg</td>\n",
       "      <td>0.038428</td>\n",
       "      <td>Dairy</td>\n",
       "      <td>87.3198</td>\n",
       "      <td>OUT017</td>\n",
       "      <td>2007</td>\n",
       "      <td>NaN</td>\n",
       "      <td>Tier 2</td>\n",
       "      <td>Supermarket Type1</td>\n",
       "    </tr>\n",
       "    <tr>\n",
       "      <th>2</th>\n",
       "      <td>NCN55</td>\n",
       "      <td>14.600</td>\n",
       "      <td>Low Fat</td>\n",
       "      <td>0.099575</td>\n",
       "      <td>Others</td>\n",
       "      <td>241.7538</td>\n",
       "      <td>OUT010</td>\n",
       "      <td>1998</td>\n",
       "      <td>NaN</td>\n",
       "      <td>Tier 3</td>\n",
       "      <td>Grocery Store</td>\n",
       "    </tr>\n",
       "    <tr>\n",
       "      <th>3</th>\n",
       "      <td>FDQ58</td>\n",
       "      <td>7.315</td>\n",
       "      <td>Low Fat</td>\n",
       "      <td>0.015388</td>\n",
       "      <td>Snack Foods</td>\n",
       "      <td>155.0340</td>\n",
       "      <td>OUT017</td>\n",
       "      <td>2007</td>\n",
       "      <td>NaN</td>\n",
       "      <td>Tier 2</td>\n",
       "      <td>Supermarket Type1</td>\n",
       "    </tr>\n",
       "    <tr>\n",
       "      <th>4</th>\n",
       "      <td>FDY38</td>\n",
       "      <td>NaN</td>\n",
       "      <td>Regular</td>\n",
       "      <td>0.118599</td>\n",
       "      <td>Dairy</td>\n",
       "      <td>234.2300</td>\n",
       "      <td>OUT027</td>\n",
       "      <td>1985</td>\n",
       "      <td>Medium</td>\n",
       "      <td>Tier 3</td>\n",
       "      <td>Supermarket Type3</td>\n",
       "    </tr>\n",
       "  </tbody>\n",
       "</table>\n",
       "</div>"
      ],
      "text/plain": [
       "  Item_Identifier  Item_Weight Item_Fat_Content  Item_Visibility    Item_Type  \\\n",
       "0           FDW58       20.750          Low Fat         0.007565  Snack Foods   \n",
       "1           FDW14        8.300              reg         0.038428        Dairy   \n",
       "2           NCN55       14.600          Low Fat         0.099575       Others   \n",
       "3           FDQ58        7.315          Low Fat         0.015388  Snack Foods   \n",
       "4           FDY38          NaN          Regular         0.118599        Dairy   \n",
       "\n",
       "   Item_MRP Outlet_Identifier  Outlet_Establishment_Year Outlet_Size  \\\n",
       "0  107.8622            OUT049                       1999      Medium   \n",
       "1   87.3198            OUT017                       2007         NaN   \n",
       "2  241.7538            OUT010                       1998         NaN   \n",
       "3  155.0340            OUT017                       2007         NaN   \n",
       "4  234.2300            OUT027                       1985      Medium   \n",
       "\n",
       "  Outlet_Location_Type        Outlet_Type  \n",
       "0               Tier 1  Supermarket Type1  \n",
       "1               Tier 2  Supermarket Type1  \n",
       "2               Tier 3      Grocery Store  \n",
       "3               Tier 2  Supermarket Type1  \n",
       "4               Tier 3  Supermarket Type3  "
      ]
     },
     "execution_count": 474,
     "metadata": {},
     "output_type": "execute_result"
    }
   ],
   "source": [
    "test.head()"
   ]
  },
  {
   "cell_type": "code",
   "execution_count": 475,
   "metadata": {},
   "outputs": [
    {
     "name": "stderr",
     "output_type": "stream",
     "text": [
      "/Applications/anaconda3/lib/python3.6/site-packages/ipykernel_launcher.py:6: SettingWithCopyWarning: \n",
      "A value is trying to be set on a copy of a slice from a DataFrame\n",
      "\n",
      "See the caveats in the documentation: http://pandas.pydata.org/pandas-docs/stable/indexing.html#indexing-view-versus-copy\n",
      "  \n",
      "/Applications/anaconda3/lib/python3.6/site-packages/pandas/core/generic.py:3110: SettingWithCopyWarning: \n",
      "A value is trying to be set on a copy of a slice from a DataFrame.\n",
      "Try using .loc[row_indexer,col_indexer] = value instead\n",
      "\n",
      "See the caveats in the documentation: http://pandas.pydata.org/pandas-docs/stable/indexing.html#indexing-view-versus-copy\n",
      "  self[name] = value\n"
     ]
    }
   ],
   "source": [
    "z=test.Item_Identifier.apply(Item_identifier_transform)\n",
    "\n",
    "from itertools import chain\n",
    "k=list(chain.from_iterable(z))\n",
    "\n",
    "k=np.array(k)\n",
    "k=k.reshape(-1,3)\n",
    "test[\"Item_id_cat1\"]=k[:,0]\n",
    "test[\"Item_id_cat2\"]=k[:,1]\n",
    "test[\"Item_id_cat3\"]=k[:,2]\n",
    "\n",
    "test= fat_content(test)\n",
    "#test.Item_MRP=test.Item_MRP.apply(mrp)\n",
    "\n",
    "test=pred_outlet_type(test)\n",
    "\n",
    "from sklearn.preprocessing import LabelEncoder\n",
    "le=LabelEncoder()\n",
    "columns1=[\"Outlet_Identifier\",\"Outlet_Location_Type\",\"Outlet_Type\",\"Item_Fat_Content\",\"Item_Type\",\"Outlet_Size\",\"Item_id_cat1\",\"Item_id_cat2\",\"Item_id_cat3\"]\n",
    "for i in columns1:\n",
    "    test[i]=le.fit_transform(test[i])\n",
    "\n",
    "test=test.sort_values(by=\"index\")\n",
    "test.drop(labels=\"index\",inplace=True,axis=1)\n",
    "test.drop(labels=\"Item_Identifier\",inplace=True,axis=1)\n",
    "test.drop(labels=\"Item_Weight\",inplace=True,axis=1)\n",
    "\n",
    "test1=test\n",
    "from sklearn.preprocessing import MinMaxScaler\n",
    "scale1=MinMaxScaler().fit(test1)\n",
    "test1=scale1.transform(test1)"
   ]
  },
  {
   "cell_type": "code",
   "execution_count": 476,
   "metadata": {},
   "outputs": [],
   "source": [
    "# selecting the model with less RMSE\n",
    "predict=gbm.predict(test1) \n",
    "\n",
    "final_predict=predict*test_MRP  #get Final Outlet_Sales\n",
    "\n",
    "submission=pd.read_csv(\"/BigMartSales_Forecasting_III/Submission.csv\")\n",
    "submission[['Item_Identifier','Outlet_Identifier']]=sub\n",
    "submission['Item_Outlet_Sales']=final_predict\n",
    "\n"
   ]
  },
  {
   "cell_type": "code",
   "execution_count": 477,
   "metadata": {},
   "outputs": [],
   "source": [
    "submission.to_csv(\"/BigMartSales_Forecasting_III/Submission1.csv\", sep=\",\",index=None)"
   ]
  },
  {
   "cell_type": "code",
   "execution_count": null,
   "metadata": {
    "collapsed": true
   },
   "outputs": [],
   "source": []
  },
  {
   "cell_type": "code",
   "execution_count": null,
   "metadata": {
    "collapsed": true
   },
   "outputs": [],
   "source": []
  }
 ],
 "metadata": {
  "kernelspec": {
   "display_name": "Python 3",
   "language": "python",
   "name": "python3"
  },
  "language_info": {
   "codemirror_mode": {
    "name": "ipython",
    "version": 3
   },
   "file_extension": ".py",
   "mimetype": "text/x-python",
   "name": "python",
   "nbconvert_exporter": "python",
   "pygments_lexer": "ipython3",
   "version": "3.6.3"
  }
 },
 "nbformat": 4,
 "nbformat_minor": 2
}
